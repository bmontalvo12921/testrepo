{
 "cells": [
  {
   "cell_type": "markdown",
   "id": "8a13ab99-1660-408d-a7a3-6fb6d5f4e1de",
   "metadata": {
    "tags": []
   },
   "source": [
    "# Data Science Tool and Ecosystem"
   ]
  },
  {
   "cell_type": "markdown",
   "id": "b2453146-8b10-4e2c-b0dc-ee91e93a41cd",
   "metadata": {},
   "source": [
    "In this notebook, Data Science Tools and Ecosystem are summarized."
   ]
  },
  {
   "cell_type": "markdown",
   "id": "6e3c9094-a416-4e54-97dc-bfe56b40334e",
   "metadata": {},
   "source": [
    "### Objectives:\n",
    "\n",
    ".Jupyter Lab\n",
    "\n",
    ".Jupyter  Notebook\n",
    "\n",
    ".R Studio\n",
    "\n",
    ".R Language\n",
    "\n",
    ".Python\n",
    "\n",
    ".SQL"
   ]
  },
  {
   "cell_type": "markdown",
   "id": "c16c3d93-a22f-40fb-8ad8-fc1b4fc29a01",
   "metadata": {},
   "source": [
    "Some of the popular languages that Data Scientists use are:\n",
    "    1.Python\n",
    "    2.SQL\n",
    "    3.R\n",
    "    4.Scala\n",
    "    5.Java\n",
    "    6.C++\n",
    "    7.Julia"
   ]
  },
  {
   "cell_type": "markdown",
   "id": "4f106139-16e9-4ae2-b846-d777c4a9ee50",
   "metadata": {},
   "source": [
    "Some Commonly used Libraries used by Data Scientist include:\n",
    "    \n",
    "    1.Sickit Learn\n",
    "    2.Keras\n",
    "    3.Tensor flow\n",
    "    4.Pytorch\n",
    "    5.Apache Spark\n",
    "    6.GGplot\n",
    "    7.Keras"
   ]
  },
  {
   "cell_type": "markdown",
   "id": "d7f78cac-54cc-4e5f-a40b-9e716550b783",
   "metadata": {},
   "source": [
    "|Data Science Tool|\n",
    "----------\n",
    "|Tableu|\n",
    "|R Studio|\n",
    "|Jupyter|\n",
    "---------"
   ]
  },
  {
   "cell_type": "markdown",
   "id": "c14cecb9-3a3f-4b12-a6a2-2d2e289d68b1",
   "metadata": {},
   "source": [
    "### Below are a few examples of evaluating arithmetic expressions in Python"
   ]
  },
  {
   "cell_type": "code",
   "execution_count": 9,
   "id": "00405720-3264-448b-8b68-fd68aead1a45",
   "metadata": {},
   "outputs": [
    {
     "data": {
      "text/plain": [
       "17"
      ]
     },
     "execution_count": 9,
     "metadata": {},
     "output_type": "execute_result"
    }
   ],
   "source": [
    "(3*4)+5"
   ]
  },
  {
   "cell_type": "code",
   "execution_count": 12,
   "id": "bb7c9dd2-796f-45b3-804a-9ae522151da3",
   "metadata": {},
   "outputs": [
    {
     "data": {
      "text/plain": [
       "3.3333333333333335"
      ]
     },
     "execution_count": 12,
     "metadata": {},
     "output_type": "execute_result"
    }
   ],
   "source": [
    "200/60"
   ]
  },
  {
   "cell_type": "markdown",
   "id": "4e3da0a1-b7c6-426d-b83b-7b8b30a5fadd",
   "metadata": {},
   "source": [
    "## Author\n",
    "\n",
    "Bryan Montalvo Ramos"
   ]
  },
  {
   "cell_type": "code",
   "execution_count": null,
   "id": "a9a1d9d8-17f6-441b-ae96-dff3a7414314",
   "metadata": {},
   "outputs": [],
   "source": []
  }
 ],
 "metadata": {
  "kernelspec": {
   "display_name": "Python 3 (ipykernel)",
   "language": "python",
   "name": "python3"
  },
  "language_info": {
   "codemirror_mode": {
    "name": "ipython",
    "version": 3
   },
   "file_extension": ".py",
   "mimetype": "text/x-python",
   "name": "python",
   "nbconvert_exporter": "python",
   "pygments_lexer": "ipython3",
   "version": "3.10.9"
  }
 },
 "nbformat": 4,
 "nbformat_minor": 5
}
